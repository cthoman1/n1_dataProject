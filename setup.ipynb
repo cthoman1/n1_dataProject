{
 "cells": [
  {
   "cell_type": "code",
   "execution_count": 10,
   "id": "4e69686a-4cc7-4bb0-bf5c-f24696482849",
   "metadata": {},
   "outputs": [],
   "source": [
    "import sqlite3\n",
    "conn = sqlite3.connect('challenge.db', timeout=5.0)\n",
    "cursor = conn.cursor()"
   ]
  },
  {
   "cell_type": "code",
   "execution_count": 11,
   "id": "2e32f87b-353e-4d4d-9298-65aea884cfda",
   "metadata": {},
   "outputs": [],
   "source": [
    "# On first glance, it seemed as if there were a lot more variables in the variables_list file than were accounted for in the table."
   ]
  },
  {
   "cell_type": "code",
   "execution_count": 12,
   "id": "4ea3324c-2102-459e-9301-03a699f92650",
   "metadata": {},
   "outputs": [],
   "source": [
    "cursor.execute(\"SELECT COUNT(*) FROM variable_list\")\n",
    "row_count = cursor.fetchone()[0]\n",
    "\n",
    "cursor.execute(\"SELECT \\\"Variable Code\\\" FROM variable_list\")\n",
    "variable_codes = [row[0] for row in cursor.fetchall()]"
   ]
  },
  {
   "cell_type": "code",
   "execution_count": 13,
   "id": "ab9eca93-19ad-433f-98ce-e31c012a8555",
   "metadata": {},
   "outputs": [],
   "source": [
    "cursor.execute(\"PRAGMA table_info(five_hundred_cities)\")\n",
    "columns_500c = cursor.fetchall()\n",
    "cursor.execute(\"PRAGMA table_info(access)\")\n",
    "columns_access = cursor.fetchall()\n",
    "\n",
    "total_column_count = len(columns_500c) + len(columns_access)"
   ]
  },
  {
   "cell_type": "code",
   "execution_count": 14,
   "id": "72ea82b9-9750-4549-a60c-277fcc504715",
   "metadata": {},
   "outputs": [
    {
     "name": "stdout",
     "output_type": "stream",
     "text": [
      "Variables represented by rows in variables_list: 281\n",
      "Variables represented in the columns: 109\n"
     ]
    }
   ],
   "source": [
    "print(f\"Variables represented by rows in variables_list: {row_count}\")\n",
    "print(f\"Variables represented in the columns: {total_column_count}\")"
   ]
  },
  {
   "cell_type": "code",
   "execution_count": 7,
   "id": "323e0f35-8916-4ddb-a050-ee6cf0394859",
   "metadata": {},
   "outputs": [],
   "source": [
    "# This confirmed that there were a number of variables for which I was missing values.\n",
    "\n",
    "# Some of these missing variables seemed relevant to the assignment, like the number of grocery stores per county,\n",
    "# so I downloaded the complete dataset from the USDA.\n",
    "\n",
    "# Specifically, I wanted the sheets: \"STORES\", \"RESTAURANTS\", \"ASSISTANCE\", \"INSECURITY\", \"PRICES_TAXES\", \"LOCAL\", \"HEALTH\", and \"SOCIOECONOMIC\"."
   ]
  },
  {
   "cell_type": "code",
   "execution_count": 23,
   "id": "a19ea012-e0d0-4971-8b37-70aadb9c73e1",
   "metadata": {},
   "outputs": [
    {
     "name": "stdout",
     "output_type": "stream",
     "text": [
      "The missing tables have already been added to the database.\n"
     ]
    }
   ],
   "source": [
    "import pandas as pd\n",
    "import os\n",
    "\n",
    "csv_dir = 'usda_csv'\n",
    "\n",
    "csv_files = [\n",
    "    'stores.csv',\n",
    "    'restaurants.csv',\n",
    "    'assistance.csv',\n",
    "    'insecurity.csv',\n",
    "    'prices_taxes.csv',\n",
    "    'local.csv',\n",
    "    'health.csv',\n",
    "    'socioeconomic.csv'\n",
    "]\n",
    "\n",
    "\n",
    "cursor.execute(\"SELECT name FROM sqlite_master WHERE type='table';\")\n",
    "tables = cursor.fetchall()\n",
    "\n",
    "if len(tables) == 3:\n",
    "    for file in csv_files:\n",
    "        file_path = os.path.join(csv_dir, file)\n",
    "        table_name = os.path.splitext(file)[0]\n",
    "    \n",
    "        df = pd.read_csv(file_path)\n",
    "        df.to_sql(table_name, conn, if_exists='replace', index=False)\n",
    "        conn.commit()\n",
    "else:\n",
    "    print(\"The missing tables have been added to the database.\")\n",
    "    \n",
    "conn.close()"
   ]
  },
  {
   "cell_type": "code",
   "execution_count": null,
   "id": "383c29fd-699d-454f-857a-cd2c937720e7",
   "metadata": {},
   "outputs": [],
   "source": []
  }
 ],
 "metadata": {
  "kernelspec": {
   "display_name": "Python (project)",
   "language": "python",
   "name": "myenv"
  },
  "language_info": {
   "codemirror_mode": {
    "name": "ipython",
    "version": 3
   },
   "file_extension": ".py",
   "mimetype": "text/x-python",
   "name": "python",
   "nbconvert_exporter": "python",
   "pygments_lexer": "ipython3",
   "version": "3.12.4"
  }
 },
 "nbformat": 4,
 "nbformat_minor": 5
}
