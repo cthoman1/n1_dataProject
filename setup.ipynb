{
 "cells": [
  {
   "cell_type": "code",
   "execution_count": 1,
   "id": "4e69686a-4cc7-4bb0-bf5c-f24696482849",
   "metadata": {},
   "outputs": [],
   "source": [
    "import sqlite3\n",
    "import pandas as pd\n",
    "import os\n",
    "\n",
    "conn = sqlite3.connect('challenge.db', timeout=5.0)\n",
    "cursor = conn.cursor()"
   ]
  },
  {
   "cell_type": "code",
   "execution_count": 2,
   "id": "2e32f87b-353e-4d4d-9298-65aea884cfda",
   "metadata": {},
   "outputs": [],
   "source": [
    "# On first glance, it seemed as if there were a lot more variables in the variables_list file than were accounted for in the table."
   ]
  },
  {
   "cell_type": "code",
   "execution_count": 3,
   "id": "4ea3324c-2102-459e-9301-03a699f92650",
   "metadata": {},
   "outputs": [],
   "source": [
    "cursor.execute(\"SELECT COUNT(*) FROM variable_list\")\n",
    "row_count = cursor.fetchone()[0]\n",
    "\n",
    "cursor.execute(\"SELECT \\\"Variable Code\\\" FROM variable_list\")\n",
    "variable_codes = [row[0] for row in cursor.fetchall()]"
   ]
  },
  {
   "cell_type": "code",
   "execution_count": 4,
   "id": "ab9eca93-19ad-433f-98ce-e31c012a8555",
   "metadata": {},
   "outputs": [],
   "source": [
    "cursor.execute(\"PRAGMA table_info(five_hundred_cities)\")\n",
    "columns_500c = cursor.fetchall()\n",
    "cursor.execute(\"PRAGMA table_info(access)\")\n",
    "columns_access = cursor.fetchall()\n",
    "\n",
    "total_column_count = len(columns_500c) + len(columns_access)"
   ]
  },
  {
   "cell_type": "code",
   "execution_count": 5,
   "id": "72ea82b9-9750-4549-a60c-277fcc504715",
   "metadata": {},
   "outputs": [
    {
     "name": "stdout",
     "output_type": "stream",
     "text": [
      "Variables represented by rows in variables_list: 281\n",
      "Variables represented in the columns: 109\n"
     ]
    }
   ],
   "source": [
    "print(f\"Variables represented by rows in variables_list: {row_count}\")\n",
    "print(f\"Variables represented in the columns: {total_column_count}\")"
   ]
  },
  {
   "cell_type": "code",
   "execution_count": 6,
   "id": "323e0f35-8916-4ddb-a050-ee6cf0394859",
   "metadata": {},
   "outputs": [],
   "source": [
    "# This confirmed that there were a number of variables for which I was missing values.\n",
    "\n",
    "# Some of these missing variables seemed relevant to the assignment, like the number of grocery stores per county,\n",
    "# so I downloaded the complete dataset from the USDA.\n",
    "\n",
    "# Specifically, I wanted the sheets: \"STORES\", \"RESTAURANTS\", \"ASSISTANCE\", \"INSECURITY\", \"PRICES_TAXES\", \"LOCAL\", \"HEALTH\", and \"SOCIOECONOMIC\"."
   ]
  },
  {
   "cell_type": "code",
   "execution_count": 7,
   "id": "a19ea012-e0d0-4971-8b37-70aadb9c73e1",
   "metadata": {},
   "outputs": [],
   "source": [
    "csv_dir = 'usda_csv'\n",
    "\n",
    "csv_files = [\n",
    "    'stores.csv',\n",
    "    'restaurants.csv',\n",
    "    'assistance.csv',\n",
    "    'insecurity.csv',\n",
    "    'prices_taxes.csv',\n",
    "    'local.csv',\n",
    "    'health.csv',\n",
    "    'socioeconomic.csv'\n",
    "]\n",
    "\n",
    "\n",
    "cursor.execute(\"SELECT name FROM sqlite_master WHERE type='table';\")\n",
    "tables = cursor.fetchall()\n",
    "\n",
    "\n",
    "for file in csv_files:\n",
    "    file_path = os.path.join(csv_dir, file)\n",
    "    table_name = os.path.splitext(file)[0]\n",
    "\n",
    "    df = pd.read_csv(file_path)\n",
    "    df.to_sql(table_name, conn, if_exists='replace', index=False)\n",
    "    conn.commit()\n",
    "    \n",
    "conn.close()"
   ]
  },
  {
   "cell_type": "code",
   "execution_count": 8,
   "id": "383c29fd-699d-454f-857a-cd2c937720e7",
   "metadata": {},
   "outputs": [],
   "source": [
    "# Last, I want to have a column for FIPS codes in the 500 Cities database so that I can merge it with the USDA data."
   ]
  },
  {
   "cell_type": "code",
   "execution_count": 9,
   "id": "9ec026bb-1ca8-4bb9-b274-0b913fc5e749",
   "metadata": {},
   "outputs": [],
   "source": [
    "conn = sqlite3.connect('challenge.db')\n",
    "cursor = conn.cursor()\n",
    "\n",
    "cursor.execute(\"PRAGMA table_info(five_hundred_cities)\")\n",
    "columns = cursor.fetchall()\n",
    "\n",
    "column_names = [column[1] for column in columns]\n",
    "\n",
    "if 'FIPS' not in column_names:\n",
    "    cursor.execute(\"ALTER TABLE five_hundred_cities ADD COLUMN FIPS INTEGER\")\n",
    "\n",
    "cursor.execute(\"\"\"\n",
    "    UPDATE five_hundred_cities \n",
    "    SET FIPS = CASE \n",
    "                WHEN StateAbbr IN ('AL', 'AK', 'AR', 'AZ', 'CA', 'CO', 'CT') THEN SUBSTR(TRACTFIPS, 1, 4)\n",
    "                ELSE SUBSTR(TRACTFIPS, 1, 5)\n",
    "                END\n",
    "\"\"\")\n",
    "\n",
    "conn.commit()\n",
    "\n",
    "cursor.close()\n",
    "conn.close()"
   ]
  },
  {
   "cell_type": "code",
   "execution_count": 10,
   "id": "63df6c8c-5208-45b8-a81c-29230636db95",
   "metadata": {},
   "outputs": [],
   "source": [
    "# Becuase the 500 Cities database has a finer level of detail than the USDA data, I want\n",
    "# to make weighted averages for each of the values in the table."
   ]
  },
  {
   "cell_type": "code",
   "execution_count": 19,
   "id": "87df8a48-2f54-48e7-92cd-84f1029bae90",
   "metadata": {},
   "outputs": [],
   "source": [
    "conn = sqlite3.connect('challenge.db')\n",
    "cursor = conn.cursor()\n",
    "\n",
    "exclude_columns = ['index', 'StateAbbr', 'PlaceName', 'PlaceFIPS', 'TractFIPS', 'Place_TractID', 'Population2010', 'Geolocation', 'FIPS']\n",
    "\n",
    "cursor.execute(\"PRAGMA table_info(five_hundred_cities)\")\n",
    "columns = cursor.fetchall()\n",
    "\n",
    "\n",
    "variable_columns = [col[1] for col in columns if col[1] not in exclude_columns and '95CI' not in col[1]]\n",
    "\n",
    "weighted_avg_query = \", \".join([f\"ROUND(SUM({col} * Population2010) / SUM(Population2010), 1) AS {col}_weighted_avg\" for col in variable_columns])\n",
    "\n",
    "cursor.execute('DROP TABLE IF EXISTS \"five_hundred_cities_summary\"')\n",
    "\n",
    "query = f\"\"\"\n",
    "    CREATE TABLE \"five_hundred_cities_summary\" AS\n",
    "    SELECT FIPS, StateAbbr, PlaceName, SUM(Population2010) AS Total_Population2010, {weighted_avg_query}\n",
    "    FROM five_hundred_cities\n",
    "    GROUP BY FIPS\n",
    "\"\"\"\n",
    "cursor.execute(query)\n",
    "conn.commit()\n",
    "\n",
    "conn.close()"
   ]
  },
  {
   "cell_type": "code",
   "execution_count": 12,
   "id": "62b4b811-457d-456c-b07d-12d87b10370a",
   "metadata": {},
   "outputs": [],
   "source": [
    "# Now, I have more variables from the USDA database and I have a means of comparison with 500 Cities."
   ]
  },
  {
   "cell_type": "code",
   "execution_count": 13,
   "id": "4e253d39-52f2-441b-b581-b216fbcadc01",
   "metadata": {},
   "outputs": [],
   "source": [
    "# One last thing I am missing is overall population figures for each county. A lot of the USDA figures are represented as percentages\n",
    "# of the total population, so I want to know the actual population numbers in case I need them. "
   ]
  },
  {
   "cell_type": "code",
   "execution_count": 14,
   "id": "88e344c2-3a83-4e6b-9fbb-05c28857a794",
   "metadata": {},
   "outputs": [],
   "source": [
    "conn = sqlite3.connect('challenge.db')\n",
    "cursor = conn.cursor()\n",
    "\n",
    "df = pd.read_csv('co-est2019-alldata.csv', dtype={'COUNTY': str}, encoding='latin1')\n",
    "columns = ', '.join([f\"{col} TEXT\" for col in df.columns])\n",
    "\n",
    "create_table_query = f\"\"\"\n",
    "CREATE TABLE IF NOT EXISTS census (\n",
    "    {columns}\n",
    ");\n",
    "\"\"\"\n",
    "\n",
    "cursor.execute(create_table_query)\n",
    "\n",
    "for _, row in df.iterrows():\n",
    "    placeholders = ', '.join('?' * len(row))\n",
    "    insert_query = f\"INSERT INTO census VALUES ({placeholders})\"\n",
    "    cursor.execute(insert_query, tuple(row))\n",
    "\n",
    "conn.commit()\n",
    "conn.close()"
   ]
  },
  {
   "cell_type": "code",
   "execution_count": 16,
   "id": "f3eabeb1-662c-4b82-b5c6-c79153fe42d8",
   "metadata": {},
   "outputs": [
    {
     "ename": "OperationalError",
     "evalue": "duplicate column name: FIPS",
     "output_type": "error",
     "traceback": [
      "\u001b[0;31m---------------------------------------------------------------------------\u001b[0m",
      "\u001b[0;31mOperationalError\u001b[0m                          Traceback (most recent call last)",
      "Cell \u001b[0;32mIn[16], line 4\u001b[0m\n\u001b[1;32m      1\u001b[0m conn \u001b[38;5;241m=\u001b[39m sqlite3\u001b[38;5;241m.\u001b[39mconnect(\u001b[38;5;124m'\u001b[39m\u001b[38;5;124mchallenge.db\u001b[39m\u001b[38;5;124m'\u001b[39m)\n\u001b[1;32m      2\u001b[0m cursor \u001b[38;5;241m=\u001b[39m conn\u001b[38;5;241m.\u001b[39mcursor()\n\u001b[0;32m----> 4\u001b[0m \u001b[43mcursor\u001b[49m\u001b[38;5;241;43m.\u001b[39;49m\u001b[43mexecute\u001b[49m\u001b[43m(\u001b[49m\u001b[38;5;124;43m\"\u001b[39;49m\u001b[38;5;124;43mALTER TABLE census ADD COLUMN FIPS TEXT;\u001b[39;49m\u001b[38;5;124;43m\"\u001b[39;49m\u001b[43m)\u001b[49m\n\u001b[1;32m      6\u001b[0m cursor\u001b[38;5;241m.\u001b[39mexecute(\u001b[38;5;124m\"\"\"\u001b[39m\n\u001b[1;32m      7\u001b[0m \u001b[38;5;124m    UPDATE census\u001b[39m\n\u001b[1;32m      8\u001b[0m \u001b[38;5;124m    SET FIPS = STATE || COUNTY;\u001b[39m\n\u001b[1;32m      9\u001b[0m \u001b[38;5;124m\"\"\"\u001b[39m)\n\u001b[1;32m     11\u001b[0m conn\u001b[38;5;241m.\u001b[39mcommit()\n",
      "\u001b[0;31mOperationalError\u001b[0m: duplicate column name: FIPS"
     ]
    }
   ],
   "source": [
    "conn = sqlite3.connect('challenge.db')\n",
    "cursor = conn.cursor()\n",
    "\n",
    "cursor.execute(\"ALTER TABLE census ADD COLUMN FIPS TEXT;\")\n",
    "\n",
    "cursor.execute(\"\"\"\n",
    "    UPDATE census\n",
    "    SET FIPS = STATE || COUNTY;\n",
    "\"\"\")\n",
    "\n",
    "conn.commit()\n",
    "conn.close()"
   ]
  },
  {
   "cell_type": "code",
   "execution_count": null,
   "id": "ee6093e3-8e5d-4df5-b424-a594b3d90f0a",
   "metadata": {},
   "outputs": [],
   "source": []
  }
 ],
 "metadata": {
  "kernelspec": {
   "display_name": "Python (project)",
   "language": "python",
   "name": "myenv"
  },
  "language_info": {
   "codemirror_mode": {
    "name": "ipython",
    "version": 3
   },
   "file_extension": ".py",
   "mimetype": "text/x-python",
   "name": "python",
   "nbconvert_exporter": "python",
   "pygments_lexer": "ipython3",
   "version": "3.12.4"
  }
 },
 "nbformat": 4,
 "nbformat_minor": 5
}
